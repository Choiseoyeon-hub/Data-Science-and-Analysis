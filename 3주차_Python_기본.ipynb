{
  "nbformat": 4,
  "nbformat_minor": 0,
  "metadata": {
    "colab": {
      "provenance": [],
      "collapsed_sections": [],
      "authorship_tag": "ABX9TyOm6l0j+M1M1n+8AWFrTJhr",
      "include_colab_link": true
    },
    "kernelspec": {
      "name": "python3",
      "display_name": "Python 3"
    },
    "language_info": {
      "name": "python"
    }
  },
  "cells": [
    {
      "cell_type": "markdown",
      "metadata": {
        "id": "view-in-github",
        "colab_type": "text"
      },
      "source": [
        "<a href=\"https://colab.research.google.com/github/Choiseoyeon-hub/Data-Science-and-Analysis/blob/main/3%EC%A3%BC%EC%B0%A8_Python_%EA%B8%B0%EB%B3%B8.ipynb\" target=\"_parent\"><img src=\"https://colab.research.google.com/assets/colab-badge.svg\" alt=\"Open In Colab\"/></a>"
      ]
    },
    {
      "cell_type": "markdown",
      "source": [
        "**1.변수**\n",
        "\n",
        "\n",
        "\n"
      ],
      "metadata": {
        "id": "ww1Xd48_rTeB"
      }
    },
    {
      "cell_type": "markdown",
      "source": [
        "1)변수 선언"
      ],
      "metadata": {
        "id": "FGagG-bnsBH3"
      }
    },
    {
      "cell_type": "code",
      "execution_count": null,
      "metadata": {
        "id": "cv8_fctgqaSj"
      },
      "outputs": [],
      "source": [
        "strVal = 'data science'               # 문자열 변수\n",
        "nVal = 12345                          # 정수형 변수\n",
        "fVal = 1.2                            # 실수형 변수\n",
        "lVal = ['data', 'science']            # 리스트\n",
        "dVal = {'lecture' : 'data science'}   # 딕셔너리\n",
        "bVal = True                           # 논리형 변수(참/거짓)"
      ]
    },
    {
      "cell_type": "markdown",
      "source": [
        "2)주석 처리"
      ],
      "metadata": {
        "id": "Orwu06y7r2pg"
      }
    },
    {
      "cell_type": "code",
      "source": [
        "# 기본적인 주석"
      ],
      "metadata": {
        "id": "4oidpDU_q_7p"
      },
      "execution_count": null,
      "outputs": []
    },
    {
      "cell_type": "code",
      "source": [
        "''' \n",
        "이런 형태의 주석도 많이 사용\n",
        "'''"
      ],
      "metadata": {
        "id": "C-ga7nmVsHUQ"
      },
      "execution_count": null,
      "outputs": []
    },
    {
      "cell_type": "markdown",
      "source": [
        "3)변수의 값과 자료형 확인"
      ],
      "metadata": {
        "id": "HubpQk7wsViY"
      }
    },
    {
      "cell_type": "code",
      "source": [
        "strVal"
      ],
      "metadata": {
        "id": "mxobpF0vsSKP"
      },
      "execution_count": null,
      "outputs": []
    },
    {
      "cell_type": "code",
      "source": [
        "nVal"
      ],
      "metadata": {
        "id": "MFFwrBijsbwI"
      },
      "execution_count": null,
      "outputs": []
    },
    {
      "cell_type": "code",
      "source": [
        "fVal"
      ],
      "metadata": {
        "id": "XfcOED1hse3I"
      },
      "execution_count": null,
      "outputs": []
    },
    {
      "cell_type": "code",
      "source": [
        "lVal"
      ],
      "metadata": {
        "id": "9HFf_UurshDC"
      },
      "execution_count": null,
      "outputs": []
    },
    {
      "cell_type": "code",
      "source": [
        "dVal"
      ],
      "metadata": {
        "id": "YuHHcKDtsius"
      },
      "execution_count": null,
      "outputs": []
    },
    {
      "cell_type": "code",
      "source": [
        "bVal"
      ],
      "metadata": {
        "id": "4hdZZS4Ksjp8"
      },
      "execution_count": null,
      "outputs": []
    },
    {
      "cell_type": "code",
      "source": [
        "print('strVal : ', strVal)\n",
        "print('nVal : ', nVal)\n",
        "print('fVal : ', fVal)\n",
        "print('lVal : ', lVal)\n",
        "print('dVal : ', dVal)\n",
        "print('bVal : ', bVal)"
      ],
      "metadata": {
        "id": "iB-qX2hVskbg"
      },
      "execution_count": null,
      "outputs": []
    },
    {
      "cell_type": "code",
      "source": [
        "print('strVal : ', type(strVal))\n",
        "print('nVal : ', type(nVal))\n",
        "print('fVal : ', type(fVal))\n",
        "print('lVal : ', type(lVal))\n",
        "print('dVal : ', type(dVal))\n",
        "print('bVal : ', type(bVal))"
      ],
      "metadata": {
        "id": "dB_ysZyOsl1g"
      },
      "execution_count": null,
      "outputs": []
    },
    {
      "cell_type": "markdown",
      "source": [
        "**2.자료형**"
      ],
      "metadata": {
        "id": "hW1NGOyYsoDR"
      }
    },
    {
      "cell_type": "markdown",
      "source": [
        "1)기본 자료형"
      ],
      "metadata": {
        "id": "_nlKIHYMsrdp"
      }
    },
    {
      "cell_type": "code",
      "source": [
        "'''\n",
        "같은 변수명일 경우, 이전 데이터를 덮어씀\n",
        "'''\n",
        "nVal = 16                          \n",
        "fVal = 3.14                        "
      ],
      "metadata": {
        "id": "TqkHGVg_sz_A"
      },
      "execution_count": null,
      "outputs": []
    },
    {
      "cell_type": "code",
      "source": [
        "print('10진수 표현 : ', nVal)       # 10진수\n",
        "print('2진수 표현 : ', bin(nVal))  # 2진수\n",
        "print('8진수 표현 : ', oct(nVal))  # 8진수\n",
        "print('16진수 표현 : ', hex(nVal))  # 16진수"
      ],
      "metadata": {
        "id": "UF9dKe-vs16Y"
      },
      "execution_count": null,
      "outputs": []
    },
    {
      "cell_type": "markdown",
      "source": [
        "2)논리형 자료형(또는 부울 자료형)"
      ],
      "metadata": {
        "id": "snK67OeDs4mA"
      }
    },
    {
      "cell_type": "code",
      "source": [
        "btVal = True                           # 논리형 변수(참)\n",
        "bfVal = False                          # 논리형 변수(거짓)"
      ],
      "metadata": {
        "id": "ZTA1Kb9Xs34I"
      },
      "execution_count": null,
      "outputs": []
    },
    {
      "cell_type": "code",
      "source": [
        "btVal = TRUE                          # 논리형 변수(참) - 오류\n",
        "bfVal = FALSE                          # 논리형 변수(거짓) - 오류"
      ],
      "metadata": {
        "id": "lmYju62xs_VY"
      },
      "execution_count": null,
      "outputs": []
    },
    {
      "cell_type": "code",
      "source": [
        "btVal = true                          # 논리형 변수(참) - 오류\n",
        "bfVal = false                          # 논리형 변수(거짓) - 오류"
      ],
      "metadata": {
        "id": "3awFWhtFtAvY"
      },
      "execution_count": null,
      "outputs": []
    },
    {
      "cell_type": "code",
      "source": [
        "10 == 11"
      ],
      "metadata": {
        "id": "I4Sqq1CAtD6Y"
      },
      "execution_count": null,
      "outputs": []
    },
    {
      "cell_type": "code",
      "source": [
        "10 != 11"
      ],
      "metadata": {
        "id": "buwvu7qktFS4"
      },
      "execution_count": null,
      "outputs": []
    },
    {
      "cell_type": "code",
      "source": [
        "10 >= 11"
      ],
      "metadata": {
        "id": "dYuA4ZqvtGWo"
      },
      "execution_count": null,
      "outputs": []
    },
    {
      "cell_type": "code",
      "source": [
        "10 <= 11"
      ],
      "metadata": {
        "id": "ZD2JwqnItHOJ"
      },
      "execution_count": null,
      "outputs": []
    },
    {
      "cell_type": "code",
      "source": [
        "10 > 11"
      ],
      "metadata": {
        "id": "BxwzOdIStIga"
      },
      "execution_count": null,
      "outputs": []
    },
    {
      "cell_type": "code",
      "source": [
        "10 < 11"
      ],
      "metadata": {
        "id": "JJwX5o3GtJsZ"
      },
      "execution_count": null,
      "outputs": []
    },
    {
      "cell_type": "code",
      "source": [
        "nBig = 100\n",
        "nSmall = 10"
      ],
      "metadata": {
        "id": "p4qBzTGLtKhI"
      },
      "execution_count": null,
      "outputs": []
    },
    {
      "cell_type": "code",
      "source": [
        "print(nBig == nSmall)\n",
        "print(nBig != nSmall)\n",
        "print(nBig >= nSmall)\n",
        "print(nBig <= nSmall)\n",
        "print(nBig > nSmall)\n",
        "print(nBig < nSmall)"
      ],
      "metadata": {
        "id": "WJ72vhbDtLfx"
      },
      "execution_count": null,
      "outputs": []
    },
    {
      "cell_type": "code",
      "source": [
        "print(nBig =< nSmall)     # 오류"
      ],
      "metadata": {
        "id": "BuZLcC2_tM34"
      },
      "execution_count": null,
      "outputs": []
    },
    {
      "cell_type": "code",
      "source": [
        "print(nBig => nSmall)     # 오류"
      ],
      "metadata": {
        "id": "eSK93pcwtOkC"
      },
      "execution_count": null,
      "outputs": []
    },
    {
      "cell_type": "markdown",
      "source": [
        "3)문자열"
      ],
      "metadata": {
        "id": "Fc3UmruBtQYa"
      }
    },
    {
      "cell_type": "code",
      "source": [
        "strData = 'data'               \n",
        "strSci = \"Science\"             "
      ],
      "metadata": {
        "id": "KQSSuKPGtPwB"
      },
      "execution_count": null,
      "outputs": []
    },
    {
      "cell_type": "code",
      "source": [
        "strLecture = strData + strSci"
      ],
      "metadata": {
        "id": "4NzG320Gtfth"
      },
      "execution_count": null,
      "outputs": []
    },
    {
      "cell_type": "code",
      "source": [
        "strLecture"
      ],
      "metadata": {
        "id": "PqKHCyozthMJ"
      },
      "execution_count": null,
      "outputs": []
    },
    {
      "cell_type": "code",
      "source": [
        "strLecture = strData +\" \"+ strSci\n",
        "strLecture"
      ],
      "metadata": {
        "id": "I6do--djtilB"
      },
      "execution_count": null,
      "outputs": []
    },
    {
      "cell_type": "code",
      "source": [
        "strLecture.split()              # split()으로 공백을 기준으로 문자열 구분"
      ],
      "metadata": {
        "id": "4aJjN2M7tkio"
      },
      "execution_count": null,
      "outputs": []
    },
    {
      "cell_type": "code",
      "source": [
        "lSeperate = strLecture.split() # split()으로 공백을 기준으로 문자열 구분하여 lSeperate 변수에 저장"
      ],
      "metadata": {
        "id": "r9YhChLWtlnS"
      },
      "execution_count": null,
      "outputs": []
    },
    {
      "cell_type": "code",
      "source": [
        "type(lSeperate)"
      ],
      "metadata": {
        "id": "N-1iXsOptnTC"
      },
      "execution_count": null,
      "outputs": []
    },
    {
      "cell_type": "code",
      "source": [
        "strHello = \"안녕하세요. 반갑습니다.\""
      ],
      "metadata": {
        "id": "usyask-NtoJi"
      },
      "execution_count": null,
      "outputs": []
    },
    {
      "cell_type": "code",
      "source": [
        "strHello.find(\"반갑\")       # 문자열을 찾기 위해 find() 함수를 이용\n",
        "                            # 문자열을 있으면, 첫번째 시작 인덱스를 반환"
      ],
      "metadata": {
        "id": "bNjWvI-dto9h"
      },
      "execution_count": null,
      "outputs": []
    },
    {
      "cell_type": "code",
      "source": [
        "strHello.find(\"hello\")    # 문자열이 없으면, -1을 리턴"
      ],
      "metadata": {
        "id": "01rbQs5jtqCk"
      },
      "execution_count": null,
      "outputs": []
    },
    {
      "cell_type": "code",
      "source": [
        "\"반갑\" in strHello          # in 명령어를 사용하여 확인 가능 : if 조건문에서 활용"
      ],
      "metadata": {
        "id": "jIe2zQCLtrKh"
      },
      "execution_count": null,
      "outputs": []
    },
    {
      "cell_type": "code",
      "source": [
        "strHello.replace('.', '?')    # .을 모두 ?로 변경"
      ],
      "metadata": {
        "id": "USssL2Ewtsbh"
      },
      "execution_count": null,
      "outputs": []
    },
    {
      "cell_type": "code",
      "source": [
        "strHello.replace('.', '?')                  \n",
        "strHello.replace(\"하세요\", \"하셔유\")       "
      ],
      "metadata": {
        "id": "MhbXob-6ttng"
      },
      "execution_count": null,
      "outputs": []
    },
    {
      "cell_type": "code",
      "source": [
        "strHello                      # 원본 데이터는 변하지 않음"
      ],
      "metadata": {
        "id": "HgsmzrSrtu3Y"
      },
      "execution_count": null,
      "outputs": []
    },
    {
      "cell_type": "code",
      "source": [
        "strNewHello = strHello.replace('.', '?')                    # strHello를 replace하여 strNewHello에 저장   \n",
        "strNewHello = strNewHello.replace(\"하세요\", \"하셔유\")       # strNewHello를 replace하여 strNewHello에 저장\n",
        "strNewHello"
      ],
      "metadata": {
        "id": "uZekEsxxtwM6"
      },
      "execution_count": null,
      "outputs": []
    },
    {
      "cell_type": "code",
      "source": [
        "strHello.strip('반갑습니다.')    # strip()함수를 이용하여 \"반갑습니다.\"를 제거"
      ],
      "metadata": {
        "id": "mec3JCu_tyhp"
      },
      "execution_count": null,
      "outputs": []
    },
    {
      "cell_type": "code",
      "source": [
        "strHello                    # 역시 원본 데이터는 변하지 않음"
      ],
      "metadata": {
        "id": "AGPhqBOTtzxj"
      },
      "execution_count": null,
      "outputs": []
    },
    {
      "cell_type": "markdown",
      "source": [
        "**3.리스트**"
      ],
      "metadata": {
        "id": "CWhjKEfht1qI"
      }
    },
    {
      "cell_type": "markdown",
      "source": [
        "1)리스트 개념"
      ],
      "metadata": {
        "id": "4J7GhPrJt4s4"
      }
    },
    {
      "cell_type": "code",
      "source": [
        "lnData = [1,2,3,4,5]     # lnData를 리스트로 생성\n",
        "print(lnData)\n",
        "print('type : ', type(lnData))"
      ],
      "metadata": {
        "colab": {
          "base_uri": "https://localhost:8080/"
        },
        "id": "6ZSlmNrLt4GQ",
        "outputId": "e0d0d199-c58c-4441-f564-acb64d1bb5b8"
      },
      "execution_count": null,
      "outputs": [
        {
          "output_type": "stream",
          "name": "stdout",
          "text": [
            "[1, 2, 3, 4, 5]\n",
            "type :  <class 'list'>\n"
          ]
        }
      ]
    },
    {
      "cell_type": "markdown",
      "source": [
        "2)리스트 인덱싱(Indexing)"
      ],
      "metadata": {
        "id": "5Yq-qyn2uCYQ"
      }
    },
    {
      "cell_type": "code",
      "source": [
        "print(lnData[0])    \n",
        "print(lnData[3])    "
      ],
      "metadata": {
        "id": "ICz3YBEFt-Fh"
      },
      "execution_count": null,
      "outputs": []
    },
    {
      "cell_type": "code",
      "source": [
        "lnData[0] = lnData[4]  \n",
        "print(lnData)           "
      ],
      "metadata": {
        "id": "eTszYpauuFFY"
      },
      "execution_count": null,
      "outputs": []
    },
    {
      "cell_type": "markdown",
      "source": [
        "3)리스트 슬라이싱(Slicing)"
      ],
      "metadata": {
        "id": "EU9LbqHluG0g"
      }
    },
    {
      "cell_type": "code",
      "source": [
        "print(lnData[2:4])      # lnData[4]에 저장된 5는 출력되지 않음"
      ],
      "metadata": {
        "id": "jY-y0CFEuGK5"
      },
      "execution_count": null,
      "outputs": []
    },
    {
      "cell_type": "markdown",
      "source": [
        "4)리스트 기본 연산"
      ],
      "metadata": {
        "id": "jS3kVPA8uL36"
      }
    },
    {
      "cell_type": "markdown",
      "source": [
        "가.병합"
      ],
      "metadata": {
        "id": "5_5SpF2juOrX"
      }
    },
    {
      "cell_type": "code",
      "source": [
        "lnData = [1,2,3,4,5]\n",
        "lstrData=['a', 'b', 'c']\n",
        "\n",
        "# 두 개의 서로다른 자료형을 가진 리스트를 병합\n",
        "lnData + lstrData"
      ],
      "metadata": {
        "id": "pI9nP1KRuQfQ"
      },
      "execution_count": null,
      "outputs": []
    },
    {
      "cell_type": "markdown",
      "source": [
        "나.데이터 추가 및 삭제"
      ],
      "metadata": {
        "id": "Dir5BuVCuSgY"
      }
    },
    {
      "cell_type": "code",
      "source": [
        "lnData.append(10)   # 10을 맨 뒤에 추가\n",
        "lnData"
      ],
      "metadata": {
        "id": "FNLBTwtXuRwo"
      },
      "execution_count": null,
      "outputs": []
    },
    {
      "cell_type": "code",
      "source": [
        "lnData.insert(0, 'python')  #'python'문자열을 0번 인덱스에 추가하고, 기존 인덱스에 저장된 데이터는 하나씩 뒤로 밀림(인덱스가 +1 추가)\n",
        "lnData"
      ],
      "metadata": {
        "id": "wXAK6_dQuYiz"
      },
      "execution_count": null,
      "outputs": []
    },
    {
      "cell_type": "code",
      "source": [
        "lnData.remove('python')     # 'python' 데이터를 삭제\n",
        "lnData"
      ],
      "metadata": {
        "id": "J7Let0rCuaIZ"
      },
      "execution_count": null,
      "outputs": []
    },
    {
      "cell_type": "code",
      "source": [
        "del lnData[5]              # del 명령어를 통해 인덱스를 지정하여 삭제\n",
        "lnData"
      ],
      "metadata": {
        "id": "sNtzORb8ua9R"
      },
      "execution_count": null,
      "outputs": []
    },
    {
      "cell_type": "code",
      "source": [
        "lnData"
      ],
      "metadata": {
        "id": "__5tY1eiudeJ"
      },
      "execution_count": null,
      "outputs": []
    },
    {
      "cell_type": "code",
      "source": [
        "lnData.pop(0)     # 0번 인덱스의 데이터를 삭제\n",
        "lnData"
      ],
      "metadata": {
        "id": "QODilJ0Tuerh"
      },
      "execution_count": null,
      "outputs": []
    },
    {
      "cell_type": "code",
      "source": [
        "lnData.pop()     # 인덱스 지정이 없으면, 마지막 인덱스의 값을 삭제\n",
        "lnData"
      ],
      "metadata": {
        "id": "rjox_ee6ugfa"
      },
      "execution_count": null,
      "outputs": []
    },
    {
      "cell_type": "code",
      "source": [
        "lnData.clear()  # 리스트의 모든 데이터를 삭제\n",
        "lnData"
      ],
      "metadata": {
        "id": "z6mURKqiuhrR"
      },
      "execution_count": null,
      "outputs": []
    },
    {
      "cell_type": "markdown",
      "source": [
        "**4.튜플**"
      ],
      "metadata": {
        "id": "ER9MY_Z-umqJ"
      }
    },
    {
      "cell_type": "markdown",
      "source": [
        "1)튜플의 개념"
      ],
      "metadata": {
        "id": "ca3vQ2H6uo06"
      }
    },
    {
      "cell_type": "code",
      "source": [
        "# 튜플의 기본 구조\n",
        "tVal = (\"사과\", \"딸기\", \"바나나\", \"토마토\", \"키위\")\n",
        "\n",
        "print(tVal)\n",
        "print(type(tVal))"
      ],
      "metadata": {
        "colab": {
          "base_uri": "https://localhost:8080/"
        },
        "id": "8gBW3gFbuqYh",
        "outputId": "6492e465-877e-4651-ab64-2f9e35aba028"
      },
      "execution_count": null,
      "outputs": [
        {
          "output_type": "stream",
          "name": "stdout",
          "text": [
            "('사과', '딸기', '바나나', '토마토', '키위')\n",
            "<class 'tuple'>\n"
          ]
        }
      ]
    },
    {
      "cell_type": "code",
      "source": [
        "# 튜플에 저장된 데이터는 변경이 불가능\n",
        "tVal[0] = \"포도\""
      ],
      "metadata": {
        "colab": {
          "base_uri": "https://localhost:8080/",
          "height": 190
        },
        "id": "ynHmJIzsur1i",
        "outputId": "fc58affa-d743-451b-9e21-606e87cb1263"
      },
      "execution_count": null,
      "outputs": [
        {
          "output_type": "error",
          "ename": "TypeError",
          "evalue": "ignored",
          "traceback": [
            "\u001b[0;31m---------------------------------------------------------------------------\u001b[0m",
            "\u001b[0;31mTypeError\u001b[0m                                 Traceback (most recent call last)",
            "\u001b[0;32m<ipython-input-10-f79c23b9d3d8>\u001b[0m in \u001b[0;36m<module>\u001b[0;34m\u001b[0m\n\u001b[1;32m      1\u001b[0m \u001b[0;31m# 튜플에 저장된 데이터는 변경이 불가능\u001b[0m\u001b[0;34m\u001b[0m\u001b[0;34m\u001b[0m\u001b[0;34m\u001b[0m\u001b[0m\n\u001b[0;32m----> 2\u001b[0;31m \u001b[0mtVal\u001b[0m\u001b[0;34m[\u001b[0m\u001b[0;36m0\u001b[0m\u001b[0;34m]\u001b[0m \u001b[0;34m=\u001b[0m \u001b[0;34m\"포도\"\u001b[0m\u001b[0;34m\u001b[0m\u001b[0;34m\u001b[0m\u001b[0m\n\u001b[0m",
            "\u001b[0;31mTypeError\u001b[0m: 'tuple' object does not support item assignment"
          ]
        }
      ]
    },
    {
      "cell_type": "markdown",
      "source": [
        "튜플의 기본 연산"
      ],
      "metadata": {
        "id": "9WvyZysMu2aQ"
      }
    },
    {
      "cell_type": "markdown",
      "source": [
        "가.튜플 내 데이터 개수 검색"
      ],
      "metadata": {
        "id": "M8YpGgCBu5TR"
      }
    },
    {
      "cell_type": "code",
      "source": [
        "# count() 함수를 이용하여 튜플에 저장된 특정 데이터의 개수를 확인\n",
        "tData = ( 1, 2, 3, 1, 2, 3, 4, 5, 1, 2, 7)\n",
        "tData.count(1)"
      ],
      "metadata": {
        "colab": {
          "base_uri": "https://localhost:8080/"
        },
        "id": "Rn4K7zk5u7B5",
        "outputId": "840c90b5-373f-4c89-886c-62ddc0ce9863"
      },
      "execution_count": null,
      "outputs": [
        {
          "output_type": "execute_result",
          "data": {
            "text/plain": [
              "3"
            ]
          },
          "metadata": {},
          "execution_count": 11
        }
      ]
    },
    {
      "cell_type": "code",
      "source": [
        "# len()함수를 이용하여 튜플에 저장된 전체 데이터 개수를 확인\n",
        "len(tVal)"
      ],
      "metadata": {
        "colab": {
          "base_uri": "https://localhost:8080/"
        },
        "id": "xv1cXSqhu-BJ",
        "outputId": "0454f51b-1be8-43f8-e06a-515ffaa80c6c"
      },
      "execution_count": null,
      "outputs": [
        {
          "output_type": "execute_result",
          "data": {
            "text/plain": [
              "5"
            ]
          },
          "metadata": {},
          "execution_count": 12
        }
      ]
    },
    {
      "cell_type": "code",
      "source": [
        "len(tData)"
      ],
      "metadata": {
        "colab": {
          "base_uri": "https://localhost:8080/"
        },
        "id": "5pZw2HflvAHh",
        "outputId": "b5f5c618-123a-495c-b5bc-aace0f0405f6"
      },
      "execution_count": null,
      "outputs": [
        {
          "output_type": "execute_result",
          "data": {
            "text/plain": [
              "11"
            ]
          },
          "metadata": {},
          "execution_count": 13
        }
      ]
    },
    {
      "cell_type": "markdown",
      "source": [
        "나.튜플 슬라이싱"
      ],
      "metadata": {
        "id": "Te95gZ4nvCNR"
      }
    },
    {
      "cell_type": "code",
      "source": [
        "print(tData[2:5])"
      ],
      "metadata": {
        "colab": {
          "base_uri": "https://localhost:8080/"
        },
        "id": "F3RUaCBJvDma",
        "outputId": "0f70f2ed-d5cb-45a0-ffd6-cee293515cd3"
      },
      "execution_count": null,
      "outputs": [
        {
          "output_type": "stream",
          "name": "stdout",
          "text": [
            "(3, 1, 2)\n"
          ]
        }
      ]
    },
    {
      "cell_type": "markdown",
      "source": [
        "다.튜플 데이터 병합"
      ],
      "metadata": {
        "id": "2SbxLIExvGls"
      }
    },
    {
      "cell_type": "code",
      "source": [
        "tTuple = tVal+ tData\n",
        "print(tTuple)"
      ],
      "metadata": {
        "colab": {
          "base_uri": "https://localhost:8080/"
        },
        "id": "hixLFvDHvHc5",
        "outputId": "44fdb3ad-e7cd-4fd5-8c6f-fe311b80d3d0"
      },
      "execution_count": null,
      "outputs": [
        {
          "output_type": "stream",
          "name": "stdout",
          "text": [
            "('사과', '딸기', '바나나', '토마토', '키위', 1, 2, 3, 1, 2, 3, 4, 5, 1, 2, 7)\n"
          ]
        }
      ]
    },
    {
      "cell_type": "markdown",
      "source": [
        "라.튜플 데이터 반복"
      ],
      "metadata": {
        "id": "I14SQi-EvKVJ"
      }
    },
    {
      "cell_type": "code",
      "source": [
        "tData * 2"
      ],
      "metadata": {
        "colab": {
          "base_uri": "https://localhost:8080/"
        },
        "id": "0bqFtAQTvL3p",
        "outputId": "0bf8934a-e506-4d51-8829-bbbc4d6ede75"
      },
      "execution_count": null,
      "outputs": [
        {
          "output_type": "execute_result",
          "data": {
            "text/plain": [
              "(1, 2, 3, 1, 2, 3, 4, 5, 1, 2, 7, 1, 2, 3, 1, 2, 3, 4, 5, 1, 2, 7)"
            ]
          },
          "metadata": {},
          "execution_count": 16
        }
      ]
    },
    {
      "cell_type": "code",
      "source": [
        "tData"
      ],
      "metadata": {
        "colab": {
          "base_uri": "https://localhost:8080/"
        },
        "id": "ldqGZheEvPuL",
        "outputId": "e8f86705-727d-40a7-e75b-dc89cded0a95"
      },
      "execution_count": null,
      "outputs": [
        {
          "output_type": "execute_result",
          "data": {
            "text/plain": [
              "(1, 2, 3, 1, 2, 3, 4, 5, 1, 2, 7)"
            ]
          },
          "metadata": {},
          "execution_count": 17
        }
      ]
    },
    {
      "cell_type": "code",
      "source": [
        "tData2 = tData * 2\n",
        "print(tData2)"
      ],
      "metadata": {
        "colab": {
          "base_uri": "https://localhost:8080/"
        },
        "id": "KIPnKi15vQ65",
        "outputId": "4e2c7558-816a-4e13-a294-26894a9125d1"
      },
      "execution_count": null,
      "outputs": [
        {
          "output_type": "stream",
          "name": "stdout",
          "text": [
            "(1, 2, 3, 1, 2, 3, 4, 5, 1, 2, 7, 1, 2, 3, 1, 2, 3, 4, 5, 1, 2, 7)\n"
          ]
        }
      ]
    },
    {
      "cell_type": "code",
      "source": [
        "print(\"tVal memory = \", hex(id(tVal)))\n",
        "tVal = tVal * 2\n",
        "print(\"tVal memory = \", hex(id(tVal)))\n",
        "print(tVal)"
      ],
      "metadata": {
        "colab": {
          "base_uri": "https://localhost:8080/"
        },
        "id": "UEhU04uRvg8p",
        "outputId": "9cd6ddb6-7df9-4128-f9d5-fa9379e10c33"
      },
      "execution_count": null,
      "outputs": [
        {
          "output_type": "stream",
          "name": "stdout",
          "text": [
            "tVal memory =  0x7efc1df564d0\n",
            "tVal memory =  0x7efc1e839b00\n",
            "('사과', '딸기', '바나나', '토마토', '키위', '사과', '딸기', '바나나', '토마토', '키위')\n"
          ]
        }
      ]
    },
    {
      "cell_type": "code",
      "source": [
        "print(\"tVal memory = \", hex(id(tVal)))\n",
        "tVal = tVal + tVal\n",
        "print(\"tVal memory = \", hex(id(tVal)))\n",
        "print(tVal)"
      ],
      "metadata": {
        "colab": {
          "base_uri": "https://localhost:8080/"
        },
        "id": "GoBbLriXvmBK",
        "outputId": "ac353f5b-423a-495f-c77c-7bcdd1b9c172"
      },
      "execution_count": null,
      "outputs": [
        {
          "output_type": "stream",
          "name": "stdout",
          "text": [
            "tVal memory =  0x7efc1e839b00\n",
            "tVal memory =  0x7efc1e0bd590\n",
            "('사과', '딸기', '바나나', '토마토', '키위', '사과', '딸기', '바나나', '토마토', '키위', '사과', '딸기', '바나나', '토마토', '키위', '사과', '딸기', '바나나', '토마토', '키위')\n"
          ]
        }
      ]
    },
    {
      "cell_type": "markdown",
      "source": [
        "**5.셋(Set)**"
      ],
      "metadata": {
        "id": "QTf7EkNIv30C"
      }
    },
    {
      "cell_type": "markdown",
      "source": [
        "1)셋의 개념"
      ],
      "metadata": {
        "id": "JyS0rG16v6T6"
      }
    },
    {
      "cell_type": "code",
      "source": [
        "sVal = {1, 2, 3, 4, 5}\n",
        "print(sVal)\n",
        "print(type(sVal))"
      ],
      "metadata": {
        "colab": {
          "base_uri": "https://localhost:8080/"
        },
        "id": "_A2F_dumv72k",
        "outputId": "d1e7c6ca-49a5-4433-9e18-9b4c766d4569"
      },
      "execution_count": null,
      "outputs": [
        {
          "output_type": "stream",
          "name": "stdout",
          "text": [
            "{1, 2, 3, 4, 5}\n",
            "<class 'set'>\n"
          ]
        }
      ]
    },
    {
      "cell_type": "code",
      "source": [
        "sVal[1:2]"
      ],
      "metadata": {
        "colab": {
          "base_uri": "https://localhost:8080/",
          "height": 172
        },
        "id": "Tz5ZhWWHv9fw",
        "outputId": "5ad1a675-fe85-4f57-b6d9-69217c717ff2"
      },
      "execution_count": null,
      "outputs": [
        {
          "output_type": "error",
          "ename": "TypeError",
          "evalue": "ignored",
          "traceback": [
            "\u001b[0;31m---------------------------------------------------------------------------\u001b[0m",
            "\u001b[0;31mTypeError\u001b[0m                                 Traceback (most recent call last)",
            "\u001b[0;32m<ipython-input-25-5e16076670ae>\u001b[0m in \u001b[0;36m<module>\u001b[0;34m\u001b[0m\n\u001b[0;32m----> 1\u001b[0;31m \u001b[0msVal\u001b[0m\u001b[0;34m[\u001b[0m\u001b[0;36m1\u001b[0m\u001b[0;34m:\u001b[0m\u001b[0;36m2\u001b[0m\u001b[0;34m]\u001b[0m\u001b[0;34m\u001b[0m\u001b[0;34m\u001b[0m\u001b[0m\n\u001b[0m",
            "\u001b[0;31mTypeError\u001b[0m: 'set' object is not subscriptable"
          ]
        }
      ]
    },
    {
      "cell_type": "markdown",
      "source": [
        "2)기본 연산"
      ],
      "metadata": {
        "id": "YURXHD3wwIJV"
      }
    },
    {
      "cell_type": "code",
      "source": [
        "# add 함수를 이용하여 데이터를 추가할 수 있음\n",
        "sVal.add(100)\n",
        "print(sVal)"
      ],
      "metadata": {
        "colab": {
          "base_uri": "https://localhost:8080/"
        },
        "id": "RQDUWnKzwKKZ",
        "outputId": "85449097-edb6-4a1e-ff7a-0da8b352f7b8"
      },
      "execution_count": null,
      "outputs": [
        {
          "output_type": "stream",
          "name": "stdout",
          "text": [
            "{1, 2, 3, 4, 5, 100}\n"
          ]
        }
      ]
    },
    {
      "cell_type": "code",
      "source": [
        "# update 함수를 이용하여 여러개의 데이터를 추가할 수 있음\n",
        "sVal.update([200, 300])\n",
        "print(sVal)"
      ],
      "metadata": {
        "colab": {
          "base_uri": "https://localhost:8080/"
        },
        "id": "QRwihfYcwNJx",
        "outputId": "39a69164-0cb3-4d6b-d9d4-31c9df646ced"
      },
      "execution_count": null,
      "outputs": [
        {
          "output_type": "stream",
          "name": "stdout",
          "text": [
            "{1, 2, 3, 4, 5, 100, 200, 300}\n"
          ]
        }
      ]
    },
    {
      "cell_type": "code",
      "source": [
        "# remove 함수를 이용하여 데이터를 삭제할 수 있음\n",
        "sVal.remove(200)\n",
        "print(sVal)"
      ],
      "metadata": {
        "colab": {
          "base_uri": "https://localhost:8080/"
        },
        "id": "XZXwyJu4wQ-g",
        "outputId": "95e1065e-6062-4625-83dc-590a27132e30"
      },
      "execution_count": null,
      "outputs": [
        {
          "output_type": "stream",
          "name": "stdout",
          "text": [
            "{1, 2, 3, 4, 5, 100, 300}\n"
          ]
        }
      ]
    },
    {
      "cell_type": "code",
      "source": [
        "# clear() 함수를 이용하여 데이터를 초기화 할 수 있음\n",
        "sVal.clear()\n",
        "print(sVal)"
      ],
      "metadata": {
        "colab": {
          "base_uri": "https://localhost:8080/"
        },
        "id": "Cjlpk9T8wVBR",
        "outputId": "dcca0c64-724b-4cb0-f441-52f02e0d10db"
      },
      "execution_count": null,
      "outputs": [
        {
          "output_type": "stream",
          "name": "stdout",
          "text": [
            "set()\n"
          ]
        }
      ]
    },
    {
      "cell_type": "markdown",
      "source": [
        "3)집합 연산"
      ],
      "metadata": {
        "id": "V45PXvXVwWw7"
      }
    },
    {
      "cell_type": "code",
      "source": [
        "sVal = {100, 200, 300, 400, 500}\n",
        "sData = {\"a\", \"b\", \"c\", \"c\", 100, 300}\n",
        "print(sVal)\n",
        "print(sData)"
      ],
      "metadata": {
        "colab": {
          "base_uri": "https://localhost:8080/"
        },
        "id": "pmPkf_NDwY86",
        "outputId": "43a0e35a-3425-4c6b-9fe1-e65745ec15c8"
      },
      "execution_count": null,
      "outputs": [
        {
          "output_type": "stream",
          "name": "stdout",
          "text": [
            "{100, 200, 300, 400, 500}\n",
            "{100, 'b', 'c', 300, 'a'}\n"
          ]
        }
      ]
    },
    {
      "cell_type": "code",
      "source": [
        "# intersection() 함수를 이용하여 교집합을 만들 수 있음\n",
        "sVal.intersection(sData)"
      ],
      "metadata": {
        "colab": {
          "base_uri": "https://localhost:8080/"
        },
        "id": "tKXzPRx9wdg4",
        "outputId": "94e31c44-59b5-45b2-f283-2968ba0280af"
      },
      "execution_count": null,
      "outputs": [
        {
          "output_type": "execute_result",
          "data": {
            "text/plain": [
              "{100, 300}"
            ]
          },
          "metadata": {},
          "execution_count": 31
        }
      ]
    },
    {
      "cell_type": "code",
      "source": [
        "# deference() 함수를 이용하여 차집합을 만들 수 있음\n",
        "sVal.difference(sData)"
      ],
      "metadata": {
        "colab": {
          "base_uri": "https://localhost:8080/"
        },
        "id": "u01AHW-Hwfha",
        "outputId": "f2357690-cb85-4d87-e23c-40ceda3f020b"
      },
      "execution_count": null,
      "outputs": [
        {
          "output_type": "execute_result",
          "data": {
            "text/plain": [
              "{200, 400, 500}"
            ]
          },
          "metadata": {},
          "execution_count": 32
        }
      ]
    },
    {
      "cell_type": "code",
      "source": [
        "# \"-\" 연산자로도 가능\n",
        "sVal - sData"
      ],
      "metadata": {
        "colab": {
          "base_uri": "https://localhost:8080/"
        },
        "id": "d-6KLW5twhw5",
        "outputId": "8c5edc3a-39af-44ca-ac0c-23996226be0d"
      },
      "execution_count": null,
      "outputs": [
        {
          "output_type": "execute_result",
          "data": {
            "text/plain": [
              "{200, 400, 500}"
            ]
          },
          "metadata": {},
          "execution_count": 33
        }
      ]
    },
    {
      "cell_type": "code",
      "source": [
        "# union() 함수를 이용하여 합집합을 만들 수 있음\n",
        "sVal.union(sData)"
      ],
      "metadata": {
        "colab": {
          "base_uri": "https://localhost:8080/"
        },
        "id": "MZ6WBklawmdc",
        "outputId": "62e9ff6a-cd93-4171-f9a0-52861ab678b2"
      },
      "execution_count": null,
      "outputs": [
        {
          "output_type": "execute_result",
          "data": {
            "text/plain": [
              "{100, 200, 300, 400, 500, 'a', 'b', 'c'}"
            ]
          },
          "metadata": {},
          "execution_count": 34
        }
      ]
    },
    {
      "cell_type": "code",
      "source": [
        "# \"+\"연산자는 불가능\n",
        "sVal + sData"
      ],
      "metadata": {
        "colab": {
          "base_uri": "https://localhost:8080/",
          "height": 190
        },
        "id": "YtLJBv9ewo7B",
        "outputId": "6d6080ab-49d6-4d76-eec8-46fab3c80c21"
      },
      "execution_count": null,
      "outputs": [
        {
          "output_type": "error",
          "ename": "TypeError",
          "evalue": "ignored",
          "traceback": [
            "\u001b[0;31m---------------------------------------------------------------------------\u001b[0m",
            "\u001b[0;31mTypeError\u001b[0m                                 Traceback (most recent call last)",
            "\u001b[0;32m<ipython-input-35-5d8368e576a2>\u001b[0m in \u001b[0;36m<module>\u001b[0;34m\u001b[0m\n\u001b[1;32m      1\u001b[0m \u001b[0;31m# \"+\"연산자는 불가능\u001b[0m\u001b[0;34m\u001b[0m\u001b[0;34m\u001b[0m\u001b[0;34m\u001b[0m\u001b[0m\n\u001b[0;32m----> 2\u001b[0;31m \u001b[0msVal\u001b[0m \u001b[0;34m+\u001b[0m \u001b[0msData\u001b[0m\u001b[0;34m\u001b[0m\u001b[0;34m\u001b[0m\u001b[0m\n\u001b[0m",
            "\u001b[0;31mTypeError\u001b[0m: unsupported operand type(s) for +: 'set' and 'set'"
          ]
        }
      ]
    },
    {
      "cell_type": "code",
      "source": [
        "# symetric_difference()를 이용하여 합집합에서 교집합을 뺀 집합을 만들 수 있음\n",
        "sVal.symmetric_difference(sData)"
      ],
      "metadata": {
        "colab": {
          "base_uri": "https://localhost:8080/"
        },
        "id": "9xbx45J9wqzp",
        "outputId": "e5e55f86-5ea8-44c1-d44e-54c3429e008b"
      },
      "execution_count": null,
      "outputs": [
        {
          "output_type": "execute_result",
          "data": {
            "text/plain": [
              "{200, 400, 500, 'a', 'b', 'c'}"
            ]
          },
          "metadata": {},
          "execution_count": 36
        }
      ]
    },
    {
      "cell_type": "markdown",
      "source": [
        "**6.딕셔너리**"
      ],
      "metadata": {
        "id": "nakObGD0wtPB"
      }
    },
    {
      "cell_type": "markdown",
      "source": [
        "1)딕셔너리 개념"
      ],
      "metadata": {
        "id": "ktHO7O2Jwvu5"
      }
    },
    {
      "cell_type": "code",
      "source": [
        "# 딕셔너리 기본 구조는 다음과 같이 표현할 수 있음\n",
        "dVal = {\n",
        "    'name' : '이컴공',\n",
        "    'email' : 'computer@hoseo.edu',\n",
        "    'address' : '충남 아산시'\n",
        "}\n",
        "print(dVal)\n",
        "print(type(dVal))"
      ],
      "metadata": {
        "colab": {
          "base_uri": "https://localhost:8080/"
        },
        "id": "qPP8ymphwxQS",
        "outputId": "5ebd6d11-0d15-494c-8bbe-c278b003f274"
      },
      "execution_count": null,
      "outputs": [
        {
          "output_type": "stream",
          "name": "stdout",
          "text": [
            "{'name': '이컴공', 'email': 'computer@hoseo.edu', 'address': '충남 아산시'}\n",
            "<class 'dict'>\n"
          ]
        }
      ]
    },
    {
      "cell_type": "markdown",
      "source": [
        "2)기본 연산"
      ],
      "metadata": {
        "id": "UBCvinyqw2Fq"
      }
    },
    {
      "cell_type": "code",
      "source": [
        "dData = {\n",
        "    \"사과\" : 300, \n",
        "    \"포도\" : 200, \n",
        "    \"배\" : 500,\n",
        "    \"키위\" : 100\n",
        "}"
      ],
      "metadata": {
        "id": "CGpj9ea-w3tj"
      },
      "execution_count": null,
      "outputs": []
    },
    {
      "cell_type": "code",
      "source": [
        "# 키를 이용한 항목 검색\n",
        "print(dData[\"배\"])"
      ],
      "metadata": {
        "colab": {
          "base_uri": "https://localhost:8080/"
        },
        "id": "z2de-gSxw47K",
        "outputId": "84359637-d13b-4519-c244-5efa9ba56f62"
      },
      "execution_count": null,
      "outputs": [
        {
          "output_type": "stream",
          "name": "stdout",
          "text": [
            "500\n"
          ]
        }
      ]
    },
    {
      "cell_type": "code",
      "source": [
        "# get() 함수를 이용한 항목 검색\n",
        "dData.get(\"배\")"
      ],
      "metadata": {
        "colab": {
          "base_uri": "https://localhost:8080/"
        },
        "id": "ucD2T4P0xH6x",
        "outputId": "fce8767e-c160-447b-f097-382dadb2f037"
      },
      "execution_count": null,
      "outputs": [
        {
          "output_type": "execute_result",
          "data": {
            "text/plain": [
              "500"
            ]
          },
          "metadata": {},
          "execution_count": 42
        }
      ]
    },
    {
      "cell_type": "code",
      "source": [
        "# 새로운 키 추가를 통한 항목 추가\n",
        "dData[\"딸기\"] = 100\n",
        "print(dData)"
      ],
      "metadata": {
        "colab": {
          "base_uri": "https://localhost:8080/"
        },
        "id": "xrwSwDKCxKvF",
        "outputId": "fdd8629f-b47f-45c2-ee1f-2cdc56a65e53"
      },
      "execution_count": null,
      "outputs": [
        {
          "output_type": "stream",
          "name": "stdout",
          "text": [
            "{'사과': 300, '포도': 200, '배': 500, '키위': 100, '딸기': 100}\n"
          ]
        }
      ]
    },
    {
      "cell_type": "code",
      "source": [
        "dData.pop(\"사과\")"
      ],
      "metadata": {
        "colab": {
          "base_uri": "https://localhost:8080/"
        },
        "id": "zvSavPQGxPLC",
        "outputId": "0254fcb2-7913-4c10-9150-ec3d3590bb9e"
      },
      "execution_count": null,
      "outputs": [
        {
          "output_type": "execute_result",
          "data": {
            "text/plain": [
              "300"
            ]
          },
          "metadata": {},
          "execution_count": 44
        }
      ]
    },
    {
      "cell_type": "code",
      "source": [
        "dData"
      ],
      "metadata": {
        "colab": {
          "base_uri": "https://localhost:8080/"
        },
        "id": "l7_EEZXHxQ5E",
        "outputId": "5ac82df3-4382-4cfa-f5da-002129436baa"
      },
      "execution_count": null,
      "outputs": [
        {
          "output_type": "execute_result",
          "data": {
            "text/plain": [
              "{'포도': 200, '배': 500, '키위': 100, '딸기': 100}"
            ]
          },
          "metadata": {},
          "execution_count": 45
        }
      ]
    },
    {
      "cell_type": "code",
      "source": [
        "dData.pop()"
      ],
      "metadata": {
        "colab": {
          "base_uri": "https://localhost:8080/",
          "height": 172
        },
        "id": "EfrlrRxGxTta",
        "outputId": "4f880864-ebd7-4190-ce30-c84162cbf476"
      },
      "execution_count": null,
      "outputs": [
        {
          "output_type": "error",
          "ename": "TypeError",
          "evalue": "ignored",
          "traceback": [
            "\u001b[0;31m---------------------------------------------------------------------------\u001b[0m",
            "\u001b[0;31mTypeError\u001b[0m                                 Traceback (most recent call last)",
            "\u001b[0;32m<ipython-input-46-34b2f8eac69c>\u001b[0m in \u001b[0;36m<module>\u001b[0;34m\u001b[0m\n\u001b[0;32m----> 1\u001b[0;31m \u001b[0mdData\u001b[0m\u001b[0;34m.\u001b[0m\u001b[0mpop\u001b[0m\u001b[0;34m(\u001b[0m\u001b[0;34m)\u001b[0m\u001b[0;34m\u001b[0m\u001b[0;34m\u001b[0m\u001b[0m\n\u001b[0m",
            "\u001b[0;31mTypeError\u001b[0m: pop expected at least 1 arguments, got 0"
          ]
        }
      ]
    },
    {
      "cell_type": "code",
      "source": [
        "# sorted 함수를 이용한 정렬\n",
        "sorted(dData)"
      ],
      "metadata": {
        "colab": {
          "base_uri": "https://localhost:8080/"
        },
        "id": "zqEcmFbgxVnL",
        "outputId": "166a9247-9139-4893-d5d6-b2a8975512c7"
      },
      "execution_count": null,
      "outputs": [
        {
          "output_type": "execute_result",
          "data": {
            "text/plain": [
              "['딸기', '배', '키위', '포도']"
            ]
          },
          "metadata": {},
          "execution_count": 47
        }
      ]
    },
    {
      "cell_type": "code",
      "source": [
        "# sorted와 values 함수를 이용하여 값을 정렬할 수 있음\n",
        "sorted(dData.values())"
      ],
      "metadata": {
        "colab": {
          "base_uri": "https://localhost:8080/"
        },
        "id": "Yd3ZY1_wxYCC",
        "outputId": "03ae840f-dd4e-45f9-cdcd-17c96e44434b"
      },
      "execution_count": null,
      "outputs": [
        {
          "output_type": "execute_result",
          "data": {
            "text/plain": [
              "[100, 100, 200, 500]"
            ]
          },
          "metadata": {},
          "execution_count": 48
        }
      ]
    },
    {
      "cell_type": "code",
      "source": [
        "# 실제 dData는 변화가 없음\n",
        "dData"
      ],
      "metadata": {
        "colab": {
          "base_uri": "https://localhost:8080/"
        },
        "id": "UUti93h8xZ6x",
        "outputId": "934abc5a-7ceb-4ba6-c554-3e7a6df403e1"
      },
      "execution_count": null,
      "outputs": [
        {
          "output_type": "execute_result",
          "data": {
            "text/plain": [
              "{'포도': 200, '배': 500, '키위': 100, '딸기': 100}"
            ]
          },
          "metadata": {},
          "execution_count": 49
        }
      ]
    },
    {
      "cell_type": "markdown",
      "source": [
        "**7.함수**"
      ],
      "metadata": {
        "id": "kxUOLTf1xcX4"
      }
    },
    {
      "cell_type": "markdown",
      "source": [
        "1)함수의 개념"
      ],
      "metadata": {
        "id": "kjL-FnDoxe0q"
      }
    },
    {
      "cell_type": "code",
      "source": [
        "def 함수명 (입력값):               #함수를 사용해 구조를 효율적으로 만듦\n",
        "    수행문1\n",
        "    수행문2\n",
        "    return 출력값"
      ],
      "metadata": {
        "id": "U6uYBLZtxgTT"
      },
      "execution_count": null,
      "outputs": []
    },
    {
      "cell_type": "code",
      "source": [
        "# 함수 f(x)를 생성하고 x 값을 입력으로 받음\n",
        "def f(x):\n",
        "  # x에 10을 더한 값을 출력\n",
        "  return x + 10"
      ],
      "metadata": {
        "id": "fJbYC6z2xsrj"
      },
      "execution_count": null,
      "outputs": []
    },
    {
      "cell_type": "code",
      "source": [
        "f(2)"
      ],
      "metadata": {
        "colab": {
          "base_uri": "https://localhost:8080/"
        },
        "id": "xhIKlS82xwaa",
        "outputId": "fb2eadf7-6aee-4e48-8d21-013f88ab4ff9"
      },
      "execution_count": null,
      "outputs": [
        {
          "output_type": "execute_result",
          "data": {
            "text/plain": [
              "12"
            ]
          },
          "metadata": {},
          "execution_count": 51
        }
      ]
    }
  ]
}